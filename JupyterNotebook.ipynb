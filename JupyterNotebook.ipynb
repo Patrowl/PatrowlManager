{
 "cells": [
  {
   "cell_type": "code",
   "execution_count": 290,
   "metadata": {},
   "outputs": [
    {
     "name": "stdout",
     "output_type": "stream",
     "text": [
      "TEST CASE: test_scan_nmap\n",
      "{\"engine_policy\": 32, \"engine_id\": 1, \"scan_type\": \"single\", \"title\": \"test\", \"description\": \"description\", \"start_scan\": \"now\", \"assets\": [1]}\n",
      "{\"status\": \"success\", \"scan_def_id\": 16}\n"
     ]
    }
   ],
   "source": [
    "import os, requests, sys, json\n",
    "sys.path.append(\"config.js\")\n",
    "from config import APIKEY\n",
    "\n",
    "PATROWL_ENDPOINT = os.environ.get('PATROWL_ENDPOINT', 'http://localhost:8083')\n",
    "PATROWL_AUTH_TOKEN = os.environ.get('PATROWL_AUTH_TOKEN', APIKEY)\n",
    "\n",
    "s = requests.Session()\n",
    "s.headers = { 'Content-type': 'application/json', 'Accept': 'application/json', 'Authorization' : 'Token {}'.format(PATROWL_AUTH_TOKEN) }  \n",
    "\n",
    "\n",
    "# def get_assets():\n",
    "#   post_data = {\n",
    "#       'value' : 'https://www.google.com/',\n",
    "#       'name' : 'asset',\n",
    "#       'type' : 'ip',\n",
    "#       'criticity': 'high',\n",
    "#       'description': 'test',\n",
    "#   } \n",
    "\n",
    "#   r = s.post(PATROWL_ENDPOINT+'/assets/api/v1/add', data=post_data)\n",
    "#   print(r.text) \n",
    "\n",
    "\n",
    "# get_assets()\n",
    "\n",
    "print('TEST CASE: test_scan_nmap')\n",
    "post_data = {\n",
    "        'engine_policy': 32, #ID dans l'url du engine policy (dans les engines policies)\n",
    "        'engine_id': 1,\n",
    "        'scan_type': 'single',\n",
    "        'title': 'test',\n",
    "        'description': 'description',\n",
    "        # \"every\": every,\n",
    "        # \"period\": period,\n",
    "        # \"scheduled_at\": scheduled_at,\n",
    "        'start_scan': 'now',\n",
    "        'assets': [1], #ID/LIST array \n",
    "#         \"assetgroups\": assetgroups\n",
    "}\n",
    "\n",
    "r = s.post(\n",
    "    PATROWL_ENDPOINT + '/scans/api/v1/defs/add',\n",
    "    data=json.dumps(post_data),\n",
    "    headers={'Content-type': 'application/json', 'Accept': 'application/json', 'Authorization' : 'Token {}'.format(PATROWL_AUTH_TOKEN)}\n",
    ")\n",
    "print(r.text)\n"
   ]
  }
 ],
 "metadata": {
  "language_info": {
   "name": "python"
  },
  "orig_nbformat": 4
 },
 "nbformat": 4,
 "nbformat_minor": 2
}
