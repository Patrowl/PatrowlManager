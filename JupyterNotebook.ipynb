{
 "cells": [
  {
   "cell_type": "code",
   "execution_count": 211,
   "metadata": {},
   "outputs": [
    {
     "name": "stdout",
     "output_type": "stream",
     "text": [
      "{\"status\": \"error\", \"reason\": \"Unable to create asset with provided args.duplicate key value violates unique constraint \\\"assets_value_key\\\"\\nDETAIL:  Key (value)=(https://www.cos.com/fr_fr/index.html) already exists.\\n\"}\n"
     ]
    }
   ],
   "source": [
    "import os, requests\n",
    "\n",
    "PATROWL_ENDPOINT = os.environ.get('PATROWL_ENDPOINT', 'http://localhost:8083')\n",
    "PATROWL_AUTH_TOKEN = os.environ.get('PATROWL_AUTH_TOKEN', 'd98d2dcc3e71f393ba2a7c55753493c57f04ff56')\n",
    "\n",
    "s = requests.Session()\n",
    "s.headers = { 'Content-type': 'application/json', 'Accept': 'application/json', 'Authorization' : 'Token {}'.format(PATROWL_AUTH_TOKEN) }  \n",
    "\n",
    "\n",
    "def get_assets():\n",
    "  post_data = {\n",
    "      'value' : 'https://www.cos.com/fr_fr/index.html',\n",
    "      'name' : 'asset',\n",
    "      'type' : 'ip',\n",
    "      'criticity': 'high',\n",
    "      'description': 'test',\n",
    "  } \n",
    "\n",
    "  r = s.post(PATROWL_ENDPOINT+'/assets/api/v1/add', data=post_data)\n",
    "  print(r.text) \n",
    "\n",
    "\n",
    "get_assets()\n",
    "\n",
    "\n",
    "  \n",
    "\n",
    "\n",
    "\n",
    "\n",
    "\n"
   ]
  }
 ],
 "metadata": {
  "kernelspec": {
   "display_name": "Python 3",
   "language": "python",
   "name": "python3"
  },
  "language_info": {
   "codemirror_mode": {
    "name": "ipython",
    "version": 3
   },
   "file_extension": ".py",
   "mimetype": "text/x-python",
   "name": "python",
   "nbconvert_exporter": "python",
   "pygments_lexer": "ipython3",
   "version": "3.8.16"
  },
  "orig_nbformat": 4,
  "vscode": {
   "interpreter": {
    "hash": "103830a904f3ae59b8ba079b3739593939c985deb32dfe4cef8446492d50f9ef"
   }
  }
 },
 "nbformat": 4,
 "nbformat_minor": 2
}
