{
 "cells": [
  {
   "cell_type": "code",
   "execution_count": 217,
   "metadata": {},
   "outputs": [
    {
     "name": "stdout",
     "output_type": "stream",
     "text": [
      "{\"id\": 41, \"value\": \"https://www.cos.com/\", \"name\": \"asset\", \"type\": \"ip\", \"criticity\": \"high\", \"exposure\": \"unknown\", \"risk_level\": {\"info\": 0, \"low\": 0, \"medium\": 0, \"high\": 0, \"critical\": 0, \"total\": 0, \"grade\": \"-\"}, \"owner\": 1, \"description\": \"test\", \"status\": \"new\", \"created_at\": \"2023-10-11T09:38:56.142752+00:00\", \"updated_at\": \"2023-10-11T09:38:56.660469+00:00\", \"categories\": [], \"teams\": []}\n"
     ]
    }
   ],
   "source": [
    "import os, requests, sys\n",
    "sys.path.append(\"config.js\")\n",
    "from config import APIKEY\n",
    "\n",
    "PATROWL_ENDPOINT = os.environ.get('PATROWL_ENDPOINT', 'http://localhost:8083')\n",
    "PATROWL_AUTH_TOKEN = os.environ.get('PATROWL_AUTH_TOKEN', APIKEY)\n",
    "\n",
    "s = requests.Session()\n",
    "s.headers = { 'Content-type': 'application/json', 'Accept': 'application/json', 'Authorization' : 'Token {}'.format(PATROWL_AUTH_TOKEN) }  \n",
    "\n",
    "\n",
    "def get_assets():\n",
    "  post_data = {\n",
    "      'value' : 'https://www.cos.com/',\n",
    "      'name' : 'asset',\n",
    "      'type' : 'ip',\n",
    "      'criticity': 'high',\n",
    "      'description': 'test',\n",
    "  } \n",
    "\n",
    "  r = s.post(PATROWL_ENDPOINT+'/assets/api/v1/add', data=post_data)\n",
    "  print(r.text) \n",
    "\n",
    "\n",
    "get_assets()\n"
   ]
  }
 ],
 "metadata": {
  "language_info": {
   "name": "python"
  },
  "orig_nbformat": 4
 },
 "nbformat": 4,
 "nbformat_minor": 2
}
