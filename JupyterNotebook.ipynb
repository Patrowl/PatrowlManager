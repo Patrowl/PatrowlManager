{
 "cells": [
  {
   "cell_type": "code",
   "execution_count": 217,
   "metadata": {},
   "outputs": [
    {
     "name": "stdout",
     "output_type": "stream",
     "text": [
      "{\"id\": 41, \"value\": \"https://www.cos.com/\", \"name\": \"asset\", \"type\": \"ip\", \"criticity\": \"high\", \"exposure\": \"unknown\", \"risk_level\": {\"info\": 0, \"low\": 0, \"medium\": 0, \"high\": 0, \"critical\": 0, \"total\": 0, \"grade\": \"-\"}, \"owner\": 1, \"description\": \"test\", \"status\": \"new\", \"created_at\": \"2023-10-11T09:38:56.142752+00:00\", \"updated_at\": \"2023-10-11T09:38:56.660469+00:00\", \"categories\": [], \"teams\": []}\n"
     ]
    }
   ],
   "source": [
    "import os, requests, sys\n",
    "sys.path.append(\"config.js\")\n",
    "from config import APIKEY\n",
    "\n",
    "PATROWL_ENDPOINT = os.environ.get('PATROWL_ENDPOINT', 'http://localhost:8083')\n",
    "PATROWL_AUTH_TOKEN = os.environ.get('PATROWL_AUTH_TOKEN', APIKEY)\n",
    "\n",
    "s = requests.Session()\n",
    "s.headers = { 'Content-type': 'application/json', 'Accept': 'application/json', 'Authorization' : 'Token {}'.format(PATROWL_AUTH_TOKEN) }  \n",
    "\n",
    "\n",
    "def get_assets():\n",
    "  post_data = {\n",
    "      'value' : 'https://www.cos.com/',\n",
    "      'name' : 'asset',\n",
    "      'type' : 'ip',\n",
    "      'criticity': 'high',\n",
    "      'description': 'test',\n",
    "  } \n",
    "\n",
    "  r = s.post(PATROWL_ENDPOINT+'/assets/api/v1/add', data=post_data)\n",
    "  print(r.text) \n",
    "\n",
    "\n",
    "get_assets()\n",
    "\n",
    "\n",
    "  \n",
    "\n",
    "\n",
    "\n",
    "\n",
    "\n"
   ]
  }
 ],
 "metadata": {
  "kernelspec": {
   "display_name": "Python 3",
   "language": "python",
   "name": "python3"
  },
  "language_info": {
   "codemirror_mode": {
    "name": "ipython",
    "version": 3
   },
   "file_extension": ".py",
   "mimetype": "text/x-python",
   "name": "python",
   "nbconvert_exporter": "python",
   "pygments_lexer": "ipython3",
   "version": "3.8.16"
  },
  "orig_nbformat": 4,
  "vscode": {
   "interpreter": {
    "hash": "103830a904f3ae59b8ba079b3739593939c985deb32dfe4cef8446492d50f9ef"
   }
  }
 },
 "nbformat": 4,
 "nbformat_minor": 2
}
